{
 "cells": [
  {
   "cell_type": "code",
   "execution_count": 1,
   "metadata": {},
   "outputs": [],
   "source": [
    "import numpy as np"
   ]
  },
  {
   "cell_type": "code",
   "execution_count": 20,
   "metadata": {},
   "outputs": [],
   "source": [
    "def est_carre(a):\n",
    "    q=np.sqrt(a)\n",
    "    return (q-int(q))==0\n",
    "\n",
    "\n",
    "def f(vmin,vmax):\n",
    "    comp=0\n",
    "    s=0\n",
    "    for n in range(vmin,vmax):\n",
    "        if est_carre((n+1)*(n+1)+(3+n)*n*4) or\n",
    "            s+=n\n",
    "            comp+=1\n",
    "            print('comp :',comp,'.. n : ',n, '.. somme : ', s)\n",
    "    return\n",
    "    "
   ]
  },
  {
   "cell_type": "code",
   "execution_count": 22,
   "metadata": {},
   "outputs": [
    {
     "name": "stdout",
     "output_type": "stream",
     "text": [
      "comp : 1 .. n :  2 .. somme :  2\n",
      "comp : 2 .. n :  5 .. somme :  7\n",
      "comp : 3 .. n :  21 .. somme :  28\n",
      "comp : 4 .. n :  42 .. somme :  70\n",
      "comp : 5 .. n :  152 .. somme :  222\n",
      "comp : 6 .. n :  296 .. somme :  518\n",
      "comp : 7 .. n :  1050 .. somme :  1568\n",
      "comp : 8 .. n :  2037 .. somme :  3605\n",
      "comp : 9 .. n :  7205 .. somme :  10810\n",
      "comp : 10 .. n :  13970 .. somme :  24780\n",
      "comp : 11 .. n :  49392 .. somme :  74172\n",
      "comp : 12 .. n :  95760 .. somme :  169932\n",
      "comp : 13 .. n :  338546 .. somme :  508478\n",
      "comp : 14 .. n :  656357 .. somme :  1164835\n",
      "comp : 15 .. n :  2320437 .. somme :  3485272\n",
      "comp : 16 .. n :  4498746 .. somme :  7984018\n",
      "comp : 17 .. n :  15904520 .. somme :  23888538\n",
      "comp : 18 .. n :  30834872 .. somme :  54723410\n",
      "comp : 19 .. n :  69923041 .. somme :  124646451\n",
      "comp : 20 .. n :  77388217 .. somme :  202034668\n",
      "comp : 21 .. n :  109011210 .. somme :  311045878\n",
      "comp : 22 .. n :  140634203 .. somme :  451680081\n",
      "comp : 23 .. n :  148099379 .. somme :  599779460\n",
      "comp : 24 .. n :  179722372 .. somme :  779501832\n",
      "comp : 25 .. n :  203880189 .. somme :  983382021\n",
      "comp : 26 .. n :  211345365 .. somme :  1194727386\n",
      "comp : 27 .. n :  242968358 .. somme :  1437695744\n",
      "comp : 28 .. n :  250433534 .. somme :  1688129278\n",
      "comp : 29 .. n :  257898710 .. somme :  1946027988\n",
      "comp : 30 .. n :  259660999 .. somme :  2205688987\n",
      "comp : 31 .. n :  267126175 .. somme :  2472815162\n",
      "comp : 32 .. n :  274591351 .. somme :  2747406513\n",
      "comp : 33 .. n :  282056527 .. somme :  3029463040\n",
      "comp : 34 .. n :  306214344 .. somme :  3335677384\n",
      "comp : 35 .. n :  313679520 .. somme :  3649356904\n",
      "comp : 36 .. n :  321144696 .. somme :  3970501600\n",
      "comp : 37 .. n :  328609872 .. somme :  4299111472\n",
      "comp : 38 .. n :  330372161 .. somme :  4629483633\n",
      "comp : 39 .. n :  337837337 .. somme :  4967320970\n",
      "comp : 40 .. n :  345302513 .. somme :  5312623483\n",
      "comp : 41 .. n :  352767689 .. somme :  5665391172\n",
      "comp : 42 .. n :  376925506 .. somme :  6042316678\n",
      "comp : 43 .. n :  384390682 .. somme :  6426707360\n",
      "comp : 44 .. n :  401083323 .. somme :  6827790683\n"
     ]
    },
    {
     "ename": "KeyboardInterrupt",
     "evalue": "",
     "output_type": "error",
     "traceback": [
      "\u001b[1;31m---------------------------------------------------------------------------\u001b[0m",
      "\u001b[1;31mKeyboardInterrupt\u001b[0m                         Traceback (most recent call last)",
      "\u001b[1;32m<ipython-input-22-d1dda45b089e>\u001b[0m in \u001b[0;36m<module>\u001b[1;34m\u001b[0m\n\u001b[1;32m----> 1\u001b[1;33m \u001b[0mf\u001b[0m\u001b[1;33m(\u001b[0m\u001b[1;36m1\u001b[0m\u001b[1;33m,\u001b[0m\u001b[1;36m1000000000\u001b[0m\u001b[1;33m)\u001b[0m\u001b[1;33m\u001b[0m\u001b[1;33m\u001b[0m\u001b[0m\n\u001b[0m",
      "\u001b[1;32m<ipython-input-20-9c3723c709c4>\u001b[0m in \u001b[0;36mf\u001b[1;34m(vmin, vmax)\u001b[0m\n\u001b[0;32m      8\u001b[0m     \u001b[0ms\u001b[0m\u001b[1;33m=\u001b[0m\u001b[1;36m0\u001b[0m\u001b[1;33m\u001b[0m\u001b[1;33m\u001b[0m\u001b[0m\n\u001b[0;32m      9\u001b[0m     \u001b[1;32mfor\u001b[0m \u001b[0mn\u001b[0m \u001b[1;32min\u001b[0m \u001b[0mrange\u001b[0m\u001b[1;33m(\u001b[0m\u001b[0mvmin\u001b[0m\u001b[1;33m,\u001b[0m\u001b[0mvmax\u001b[0m\u001b[1;33m)\u001b[0m\u001b[1;33m:\u001b[0m\u001b[1;33m\u001b[0m\u001b[1;33m\u001b[0m\u001b[0m\n\u001b[1;32m---> 10\u001b[1;33m         \u001b[1;32mif\u001b[0m \u001b[0mest_carre\u001b[0m\u001b[1;33m(\u001b[0m\u001b[1;33m(\u001b[0m\u001b[0mn\u001b[0m\u001b[1;33m+\u001b[0m\u001b[1;36m1\u001b[0m\u001b[1;33m)\u001b[0m\u001b[1;33m*\u001b[0m\u001b[1;33m(\u001b[0m\u001b[0mn\u001b[0m\u001b[1;33m+\u001b[0m\u001b[1;36m1\u001b[0m\u001b[1;33m)\u001b[0m\u001b[1;33m+\u001b[0m\u001b[1;33m(\u001b[0m\u001b[1;36m3\u001b[0m\u001b[1;33m+\u001b[0m\u001b[0mn\u001b[0m\u001b[1;33m)\u001b[0m\u001b[1;33m*\u001b[0m\u001b[0mn\u001b[0m\u001b[1;33m*\u001b[0m\u001b[1;36m4\u001b[0m\u001b[1;33m)\u001b[0m\u001b[1;33m:\u001b[0m\u001b[1;33m\u001b[0m\u001b[1;33m\u001b[0m\u001b[0m\n\u001b[0m\u001b[0;32m     11\u001b[0m             \u001b[0ms\u001b[0m\u001b[1;33m+=\u001b[0m\u001b[0mn\u001b[0m\u001b[1;33m\u001b[0m\u001b[1;33m\u001b[0m\u001b[0m\n\u001b[0;32m     12\u001b[0m             \u001b[0mcomp\u001b[0m\u001b[1;33m+=\u001b[0m\u001b[1;36m1\u001b[0m\u001b[1;33m\u001b[0m\u001b[1;33m\u001b[0m\u001b[0m\n",
      "\u001b[1;32m<ipython-input-20-9c3723c709c4>\u001b[0m in \u001b[0;36mest_carre\u001b[1;34m(a)\u001b[0m\n\u001b[0;32m      1\u001b[0m \u001b[1;32mdef\u001b[0m \u001b[0mest_carre\u001b[0m\u001b[1;33m(\u001b[0m\u001b[0ma\u001b[0m\u001b[1;33m)\u001b[0m\u001b[1;33m:\u001b[0m\u001b[1;33m\u001b[0m\u001b[1;33m\u001b[0m\u001b[0m\n\u001b[0;32m      2\u001b[0m     \u001b[0mq\u001b[0m\u001b[1;33m=\u001b[0m\u001b[0mnp\u001b[0m\u001b[1;33m.\u001b[0m\u001b[0msqrt\u001b[0m\u001b[1;33m(\u001b[0m\u001b[0ma\u001b[0m\u001b[1;33m)\u001b[0m\u001b[1;33m\u001b[0m\u001b[1;33m\u001b[0m\u001b[0m\n\u001b[1;32m----> 3\u001b[1;33m     \u001b[1;32mreturn\u001b[0m \u001b[1;33m(\u001b[0m\u001b[0mq\u001b[0m\u001b[1;33m-\u001b[0m\u001b[0mint\u001b[0m\u001b[1;33m(\u001b[0m\u001b[0mq\u001b[0m\u001b[1;33m)\u001b[0m\u001b[1;33m)\u001b[0m\u001b[1;33m==\u001b[0m\u001b[1;36m0\u001b[0m\u001b[1;33m\u001b[0m\u001b[1;33m\u001b[0m\u001b[0m\n\u001b[0m\u001b[0;32m      4\u001b[0m \u001b[1;33m\u001b[0m\u001b[0m\n\u001b[0;32m      5\u001b[0m \u001b[1;33m\u001b[0m\u001b[0m\n",
      "\u001b[1;31mKeyboardInterrupt\u001b[0m: "
     ]
    }
   ],
   "source": [
    "f(1,1000000000)"
   ]
  },
  {
   "cell_type": "markdown",
   "metadata": {},
   "source": [
    "comp : 1 .. n :  2 .. somme :  2\n",
    "comp : 2 .. n :  5 .. somme :  7\n",
    "comp : 3 .. n :  21 .. somme :  28\n",
    "comp : 4 .. n :  42 .. somme :  70\n",
    "comp : 5 .. n :  152 .. somme :  222\n",
    "comp : 6 .. n :  296 .. somme :  518\n",
    "comp : 7 .. n :  1050 .. somme :  1568\n",
    "comp : 8 .. n :  2037 .. somme :  3605\n",
    "comp : 9 .. n :  7205 .. somme :  10810\n",
    "comp : 10 .. n :  13970 .. somme :  24780\n",
    "comp : 11 .. n :  49392 .. somme :  74172\n",
    "comp : 12 .. n :  95760 .. somme :  169932\n",
    "comp : 13 .. n :  338546 .. somme :  508478\n",
    "comp : 14 .. n :  656357 .. somme :  1164835\n",
    "comp : 15 .. n :  2320437 .. somme :  3485272\n",
    "comp : 16 .. n :  4498746 .. somme :  7984018\n",
    "comp : 17 .. n :  15904520 .. somme :  23888538\n",
    "comp : 18 .. n :  30834872 .. somme :  54723410"
   ]
  }
 ],
 "metadata": {
  "kernelspec": {
   "display_name": "Python 3",
   "language": "python",
   "name": "python3"
  },
  "language_info": {
   "codemirror_mode": {
    "name": "ipython",
    "version": 3
   },
   "file_extension": ".py",
   "mimetype": "text/x-python",
   "name": "python",
   "nbconvert_exporter": "python",
   "pygments_lexer": "ipython3",
   "version": "3.8.10"
  }
 },
 "nbformat": 4,
 "nbformat_minor": 2
}
