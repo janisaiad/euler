{
 "cells": [
  {
   "cell_type": "code",
   "execution_count": 30,
   "metadata": {},
   "outputs": [],
   "source": [
    "import numpy as np\n",
    "import matplotlib.pyplot as plt\n",
    "from math import inf\n",
    "from random import randint\n",
    "%matplotlib widget\n"
   ]
  },
  {
   "cell_type": "markdown",
   "metadata": {},
   "source": [
    "Stratégie : pour chaque point A du triangle, on calcule le sous-triangle d'aire minimale qui a A comme pointe.\n",
    "Ce calcul se fera à partir de l'algorithme de kahan"
   ]
  },
  {
   "cell_type": "markdown",
   "metadata": {},
   "source": []
  },
  {
   "cell_type": "code",
   "execution_count": null,
   "metadata": {},
   "outputs": [],
   "source": []
  },
  {
   "cell_type": "code",
   "execution_count": 129,
   "metadata": {},
   "outputs": [],
   "source": [
    "def plus_grande_sous_liste_n(arr):\n",
    "    n = len(arr)\n",
    "    maxSum = -inf\n",
    "    currSum = 0\n",
    "\n",
    "    for i in range(0, n):\n",
    "        currSum = currSum + arr[i]\n",
    "        if(currSum > maxSum):\n",
    "            maxSum = currSum\n",
    "        if(currSum < 0):\n",
    "            currSum = 0\n",
    "      \n",
    "    return maxSum\n",
    "\n",
    "\n",
    "\n",
    "\n",
    "def sous_liste_somme_minimal(arr):\n",
    "    return - plus_grande_sous_liste_n(-arr)\n",
    "\n",
    "def sous_liste1D(L):\n",
    "    return list(np.cumsum(np.array(L)))\n",
    "    \n",
    "\n",
    "\n",
    "\n",
    "def sous_liste(T):\n",
    "    S=[]\n",
    "    for j in range(len(T)):\n",
    "        S.append(sous_liste1D(T[j]))\n",
    "    return S\n",
    "\n",
    "\n",
    "\n",
    "\n",
    "\n",
    "\n",
    "\n",
    "def sous_somme(S,i,j,base):\n",
    "    h = base-i+1\n",
    "    long = h\n",
    "    indicecotedroit = j+long-1\n",
    "    if j==0:\n",
    "        return S[base][indicecotedroit]\n",
    "    return S[base][indicecotedroit]-S[base][j-1]\n",
    "\n",
    "\n",
    "\n",
    "\n",
    "def sous_maxima(S,i,j):\n",
    "    n=len(S)\n",
    "    s=[]\n",
    "    for base in range(i,n):\n",
    "        s.append(sous_somme(S,i,j,base))\n",
    "    s=np.array(s)\n",
    "    s=np.cumsum(s)\n",
    "    return np.min(s)\n",
    "    \n",
    "    "
   ]
  },
  {
   "cell_type": "code",
   "execution_count": 130,
   "metadata": {},
   "outputs": [],
   "source": [
    "def resout(T):\n",
    "    n=len(T)\n",
    "    sous_max = np.zeros((n,n))+inf\n",
    "    S=sous_liste(T)\n",
    "    for i in range(len(T)):\n",
    "        if int(i/len(T)*100)<int((i+1)/len(T)*100):\n",
    "            print(int(i/len(T)*100))\n",
    "        for j in range(i+1):\n",
    "            sous_max[i][j]=sous_maxima(S,i,j)\n",
    "    return np.min(np.array(sous_max))\n",
    "\n",
    "def affiche(Q):\n",
    "    for j in Q:\n",
    "        print(j)"
   ]
  },
  {
   "cell_type": "code",
   "execution_count": 135,
   "metadata": {},
   "outputs": [
    {
     "name": "stdout",
     "output_type": "stream",
     "text": [
      "[1]\n",
      "[0, -4]\n",
      "[7, -1, 7]\n",
      "[8, 5, 3, -5]\n"
     ]
    }
   ],
   "source": [
    "Q=[[randint(-5,10) for _ in range(k)] for k in range(1,5)]\n",
    "affiche(Q)"
   ]
  },
  {
   "cell_type": "code",
   "execution_count": 136,
   "metadata": {},
   "outputs": [
    {
     "name": "stdout",
     "output_type": "stream",
     "text": [
      "0\n",
      "25\n",
      "50\n",
      "75\n"
     ]
    },
    {
     "data": {
      "text/plain": [
       "-5.0"
      ]
     },
     "execution_count": 136,
     "metadata": {},
     "output_type": "execute_result"
    }
   ],
   "source": [
    "resout(Q)"
   ]
  },
  {
   "cell_type": "markdown",
   "metadata": {},
   "source": [
    "Data processing"
   ]
  },
  {
   "cell_type": "code",
   "execution_count": 137,
   "metadata": {},
   "outputs": [],
   "source": [
    "s=[]\n",
    "a=2**20\n",
    "b=2**19\n",
    "t=0\n",
    "for k in range(500500):\n",
    "    t=(615949*t + 797807)%a\n",
    "    s.append(t-b)\n",
    "\n"
   ]
  },
  {
   "cell_type": "code",
   "execution_count": 138,
   "metadata": {},
   "outputs": [],
   "source": [
    "T=[]\n",
    "comp=0\n",
    "for k in range(1,1001):\n",
    "    T.append(s[comp:comp+k])\n",
    "    comp+=k\n",
    "    "
   ]
  },
  {
   "cell_type": "code",
   "execution_count": 139,
   "metadata": {},
   "outputs": [
    {
     "name": "stdout",
     "output_type": "stream",
     "text": [
      "0\n",
      "1\n",
      "2\n",
      "3\n",
      "4\n",
      "5\n",
      "6\n",
      "7\n",
      "8\n",
      "9\n",
      "10\n",
      "11\n",
      "12\n",
      "13\n",
      "14\n",
      "15\n",
      "16\n",
      "17\n",
      "18\n",
      "19\n",
      "20\n",
      "21\n",
      "22\n",
      "23\n",
      "24\n",
      "25\n",
      "26\n",
      "27\n",
      "28\n",
      "29\n",
      "30\n",
      "31\n",
      "32\n",
      "33\n",
      "34\n",
      "35\n",
      "36\n",
      "37\n",
      "38\n",
      "39\n",
      "40\n",
      "41\n",
      "42\n",
      "43\n",
      "44\n",
      "45\n",
      "46\n",
      "47\n",
      "48\n",
      "49\n",
      "50\n",
      "51\n",
      "52\n",
      "53\n",
      "54\n",
      "55\n",
      "56\n",
      "57\n",
      "58\n",
      "59\n",
      "60\n",
      "61\n",
      "62\n",
      "63\n",
      "64\n",
      "65\n",
      "66\n",
      "67\n",
      "68\n",
      "69\n",
      "70\n",
      "71\n",
      "72\n",
      "73\n",
      "74\n",
      "75\n",
      "76\n",
      "77\n",
      "78\n",
      "79\n",
      "80\n",
      "81\n",
      "82\n",
      "83\n",
      "84\n",
      "85\n",
      "86\n",
      "87\n",
      "88\n",
      "89\n",
      "90\n",
      "91\n",
      "92\n",
      "93\n",
      "94\n",
      "95\n",
      "96\n",
      "97\n",
      "98\n",
      "99\n"
     ]
    },
    {
     "data": {
      "text/plain": [
       "-271248680.0"
      ]
     },
     "execution_count": 139,
     "metadata": {},
     "output_type": "execute_result"
    }
   ],
   "source": [
    "resout(T)"
   ]
  },
  {
   "cell_type": "markdown",
   "metadata": {},
   "source": [
    "The answer is : -271248680"
   ]
  },
  {
   "cell_type": "code",
   "execution_count": null,
   "metadata": {},
   "outputs": [],
   "source": []
  }
 ],
 "metadata": {
  "kernelspec": {
   "display_name": "Python 3",
   "language": "python",
   "name": "python3"
  },
  "language_info": {
   "codemirror_mode": {
    "name": "ipython",
    "version": 3
   },
   "file_extension": ".py",
   "mimetype": "text/x-python",
   "name": "python",
   "nbconvert_exporter": "python",
   "pygments_lexer": "ipython3",
   "version": "3.8.10"
  }
 },
 "nbformat": 4,
 "nbformat_minor": 2
}
