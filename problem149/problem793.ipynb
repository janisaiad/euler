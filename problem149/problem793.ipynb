{
 "cells": [
  {
   "cell_type": "code",
   "execution_count": 7,
   "metadata": {},
   "outputs": [],
   "source": [
    "import numpy as np"
   ]
  },
  {
   "cell_type": "markdown",
   "metadata": {},
   "source": [
    "pas très intéressant, il s'agit seulement de pouvoir calculer la médiane de deux listes triées en log n"
   ]
  },
  {
   "cell_type": "code",
   "execution_count": 6,
   "metadata": {},
   "outputs": [],
   "source": [
    "def insere(s,i): # on insere le nombre i dans une liste triée\n",
    "    a=0\n",
    "    b=len(s)-1\n",
    "    if len(s)==1:\n",
    "        if i<=s[0]:\n",
    "            return [i,s[0]],0\n",
    "        return [s[0],i],1\n",
    "    if i>=s[b]:\n",
    "        return s+[i], len(s)\n",
    "    if i<=s[a]:\n",
    "        return [i]+s,0\n",
    "    comp=0\n",
    "    while b-a>1:\n",
    "        n=(a+b)//2\n",
    "        m=s[n]\n",
    "        if i<m:\n",
    "            b=n\n",
    "        else:\n",
    "            a=n\n",
    "        comp+=1\n",
    "    if a==b:\n",
    "        return s[:a]+[i]+s[a:],a\n",
    "    return s[:a+1]+[i]+s[b:],a+1\n",
    "\n",
    "\n",
    "def insereindice(s,i):\n",
    "    a=0\n",
    "    b=len(s)-1\n",
    "    if len(s)==1:\n",
    "        if i<=s[0]:\n",
    "            return 0\n",
    "        return 1\n",
    "    if i>=s[b]:\n",
    "        return len(s)\n",
    "    if i<=s[a]:\n",
    "        return 0\n",
    "    comp=0\n",
    "    while b-a>1:\n",
    "        n=(a+b)//2\n",
    "        m=s[n]\n",
    "        if i<m:\n",
    "            b=n\n",
    "        else:\n",
    "            a=n\n",
    "        comp+=1\n",
    "    if a==b:\n",
    "        return a\n",
    "    return a+1\n",
    "    \n",
    "        "
   ]
  },
  {
   "cell_type": "markdown",
   "metadata": {},
   "source": [
    "Pour le problème on a besoin de prétraiter un"
   ]
  },
  {
   "cell_type": "code",
   "execution_count": 5,
   "metadata": {},
   "outputs": [],
   "source": [
    "def listofallsortedsublist(S): # pas utile en vrai\n",
    "    liste = [[S[0]]]\n",
    "    listecourant = [S[0]]\n",
    "    for k in range(1,len(S)):\n",
    "        valeur = S[k]\n",
    "        listecourant = insere(listecourant,valeur)\n",
    "        liste.append(listecourant)\n",
    "        if int(k/len(S)*100)<int((k+1)/len(S)*100):\n",
    "            print(int(k/len(S)*100))\n",
    "    return liste\n"
   ]
  },
  {
   "cell_type": "code",
   "execution_count": null,
   "metadata": {},
   "outputs": [],
   "source": []
  },
  {
   "cell_type": "markdown",
   "metadata": {},
   "source": [
    "Data processing"
   ]
  },
  {
   "cell_type": "code",
   "execution_count": 7,
   "metadata": {},
   "outputs": [],
   "source": [
    "S=[290797]\n",
    "for _ in range(100002):\n",
    "    S.append((S[-1]**2)%5051593)\n"
   ]
  },
  {
   "cell_type": "code",
   "execution_count": null,
   "metadata": {},
   "outputs": [],
   "source": [
    "\n"
   ]
  },
  {
   "cell_type": "markdown",
   "metadata": {},
   "source": [
    "Code again"
   ]
  },
  {
   "cell_type": "markdown",
   "metadata": {},
   "source": [
    "seul petit problème : la mémoire va être vacante ... il faut gérer ça efficacement"
   ]
  },
  {
   "cell_type": "markdown",
   "metadata": {},
   "source": [
    "Structure adaptée : un arbre binaire de recherche qui permettra de gérer toutes les médianes et tableaux sur/sous médians très rapidement"
   ]
  },
  {
   "cell_type": "markdown",
   "metadata": {},
   "source": [
    "On met à jour l'arbre binaire de recherche sur lequel on travail assez rapidement, il aura une grande taille qui est gérable (10^12)"
   ]
  },
  {
   "cell_type": "code",
   "execution_count": 77,
   "metadata": {},
   "outputs": [
    {
     "name": "stdout",
     "output_type": "stream",
     "text": [
      "True\n"
     ]
    }
   ],
   "source": [
    "def M(n): # on suppose n plus grand que 2\n",
    "    median = S[0]*S[1]\n",
    "    listecourant = [S[0]]\n",
    "    for k in range(2,n-1):\n",
    "        valeur = S[k-1]\n",
    "        listecourant = insere(listecourant,valeur)  # on insere la valeur dedans\n",
    "        indice = insereindice(np.array(listecourant)*S[k] ,median) # c'est l'indice où la médiane s'insère\n",
    "        \n",
    "        \n",
    "    "
   ]
  },
  {
   "cell_type": "code",
   "execution_count": null,
   "metadata": {},
   "outputs": [],
   "source": []
  }
 ],
 "metadata": {
  "kernelspec": {
   "display_name": "Python 3",
   "language": "python",
   "name": "python3"
  },
  "language_info": {
   "codemirror_mode": {
    "name": "ipython",
    "version": 3
   },
   "file_extension": ".py",
   "mimetype": "text/x-python",
   "name": "python",
   "nbconvert_exporter": "python",
   "pygments_lexer": "ipython3",
   "version": "3.8.10"
  }
 },
 "nbformat": 4,
 "nbformat_minor": 2
}
