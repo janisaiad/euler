{
 "cells": [
  {
   "cell_type": "code",
   "execution_count": 2,
   "metadata": {},
   "outputs": [],
   "source": [
    "\n",
    "from math import sqrt, log\n",
    "\n",
    "# Question 1\n",
    "\n",
    "def est_premier(n):\n",
    "    for k in range(2, int(sqrt(n))+1):\n",
    "        if n%k==0:\n",
    "            return False\n",
    "    return True\n",
    "\n",
    "\n",
    "# Question 2\n",
    "\n",
    "def liste_chiffres(n):\n",
    "    nbdigits=int(log(n, 10))+1\n",
    "    L=[]\n",
    "    for i in range(nbdigits-1, -1, -1):\n",
    "        a=int(n*10**(-i))%10\n",
    "        L.append(a)\n",
    "    return L\n",
    "\n",
    "\n",
    "# Question 3\n",
    "\n",
    "def decale_liste(L):\n",
    "    newlist=[]\n",
    "    for i in range(len(L)):\n",
    "        newlist.append(L[(i-1)%len(L)]) # -1 décale le dernier au début\n",
    "    return newlist \n",
    "\n",
    "\n",
    "# Question 4\n",
    "\n",
    "def nombre_liste(L):\n",
    "    n=len(L)\n",
    "    newnb=0\n",
    "    for i in range(n):\n",
    "        newnb+=10**(n-i-1)*L[i]  # on multiplie les chiffres par les puissances décroissantes de 10\n",
    "    return newnb\n",
    "\n",
    "\n",
    "# Question 5\n",
    "\n",
    "def decale_nombre(n):\n",
    "    return nombre_liste(decale_liste(liste_chiffres(n)))\n",
    "\n",
    "\n",
    "# Question 6\n",
    "\n",
    "def est_solution(n):\n",
    "    for _ in range(int(log(n, 10))+1):\n",
    "        if est_premier(n) == False:\n",
    "            return False\n",
    "        n=decale_nombre(n)\n",
    "    return True\n",
    "\n",
    "\n",
    "# Question 7\n",
    "\n",
    "def cherche_solution(N):\n",
    "    for i in range(10**(N-1)+1, 10**N, 2):\n",
    "        if est_solution(i) == True:\n",
    "            return i\n",
    "        \n"
   ]
  },
  {
   "cell_type": "code",
   "execution_count": 3,
   "metadata": {},
   "outputs": [],
   "source": [
    "def reponse(n):\n",
    "    s=0\n",
    "    for j in range(2,n):\n",
    "        if est_solution(j):\n",
    "            s+=1\n",
    "    return s"
   ]
  },
  {
   "cell_type": "code",
   "execution_count": 5,
   "metadata": {},
   "outputs": [
    {
     "data": {
      "text/plain": [
       "55"
      ]
     },
     "execution_count": 5,
     "metadata": {},
     "output_type": "execute_result"
    }
   ],
   "source": [
    "reponse(1000000)"
   ]
  },
  {
   "cell_type": "code",
   "execution_count": null,
   "metadata": {},
   "outputs": [],
   "source": []
  }
 ],
 "metadata": {
  "kernelspec": {
   "display_name": "Python 3",
   "language": "python",
   "name": "python3"
  },
  "language_info": {
   "codemirror_mode": {
    "name": "ipython",
    "version": 3
   },
   "file_extension": ".py",
   "mimetype": "text/x-python",
   "name": "python",
   "nbconvert_exporter": "python",
   "pygments_lexer": "ipython3",
   "version": "3.8.10"
  }
 },
 "nbformat": 4,
 "nbformat_minor": 2
}
