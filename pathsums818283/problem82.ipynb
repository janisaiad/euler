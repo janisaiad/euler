{
 "cells": [
  {
   "cell_type": "code",
   "execution_count": 58,
   "metadata": {},
   "outputs": [],
   "source": [
    "import numpy as np\n",
    "import matplotlib.pyplot as plt\n",
    "from copy import copy\n",
    "from math import inf\n",
    "%matplotlib widget"
   ]
  },
  {
   "cell_type": "markdown",
   "metadata": {},
   "source": [
    "Point de vue : on va stocker la somme de chaque sous colonne dans un tenseur d'ordre 3 dans une stratégie top to bottom"
   ]
  },
  {
   "cell_type": "markdown",
   "metadata": {},
   "source": [
    "Convention : on inclut les extremites dans le calcul"
   ]
  },
  {
   "cell_type": "code",
   "execution_count": 86,
   "metadata": {},
   "outputs": [],
   "source": [
    "def sous_colonne(M):\n",
    "    n,p=np.shape(M)\n",
    "    matrice = np.zeros((p,n,n))\n",
    "    for colonne in range(p):\n",
    "        for ext_bas in range(n):\n",
    "            for ext_haut in range(ext_bas,n):\n",
    "                matrice[colonne,ext_haut,ext_bas]=sum(M[ext_bas:ext_haut+1,colonne])\n",
    "                matrice[colonne,ext_bas,ext_haut]=matrice[colonne,ext_haut,ext_bas]\n",
    "    return matrice\n",
    "\n",
    "\n",
    "\n",
    "def liste_liens(k,j,p): # on finit en j\n",
    "    return [(k+1,j,z) for z in range(p)]\n",
    "\n",
    "\n",
    "\n",
    "    \n",
    "def resout(M):\n",
    "    n,p = np.shape(M)\n",
    "    sous_sommes = sous_colonne(M)\n",
    "    matrice_cumul = copy(sous_sommes)\n",
    "    for k in range(1,p): # c'est la colonne où on se place\n",
    "        for ext_bas in range(n):\n",
    "            for ext_haut in range(ext_bas,n): # maintenant on calcule la meilleure somme qui finit utilisant cette sous_somme\n",
    "                s=inf\n",
    "                ss=inf\n",
    "                for j in range(n): # on pourrait aussi stocker un couple, valeur et chemin en récupérant l'argmin et étudier la gueule du trajet (marche aléatoire symétrique sur la matrice donnée !), des stats à étudier sur la longueur moyenne du chemin et la loi etc ..\n",
    "                    s=min(matrice_cumul[k-1,j,ext_bas],s)\n",
    "                    ss=min(matrice_cumul[k-1,j,ext_haut],ss)\n",
    "                matrice_cumul[k,ext_bas,ext_haut]=s+sous_sommes[k,ext_haut,ext_bas]\n",
    "                matrice_cumul[k,ext_haut,ext_bas]=ss+sous_sommes[k,ext_haut,ext_bas]\n",
    "                \n",
    "    return np.min(matrice_cumul[p-1,:,:]) # bon on pourrait éviter des calculs sur les derniers effets de bord mais c'est négligeable\n",
    "    "
   ]
  },
  {
   "cell_type": "code",
   "execution_count": 88,
   "metadata": {},
   "outputs": [
    {
     "name": "stdout",
     "output_type": "stream",
     "text": [
      "[[0.09671459 0.66439856 0.76424021]\n",
      " [0.69369512 0.60983671 0.15960332]\n",
      " [0.54569433 0.08727461 0.50456609]]\n"
     ]
    }
   ],
   "source": [
    "Q=np.random.random((3,3))\n",
    "print(Q)"
   ]
  },
  {
   "cell_type": "code",
   "execution_count": 89,
   "metadata": {},
   "outputs": [
    {
     "data": {
      "text/plain": [
       "1.1375350253024852"
      ]
     },
     "execution_count": 89,
     "metadata": {},
     "output_type": "execute_result"
    }
   ],
   "source": [
    "resout(Q)"
   ]
  },
  {
   "cell_type": "code",
   "execution_count": 90,
   "metadata": {},
   "outputs": [
    {
     "data": {
      "text/plain": [
       "1.13753503"
      ]
     },
     "execution_count": 90,
     "metadata": {},
     "output_type": "execute_result"
    }
   ],
   "source": []
  },
  {
   "cell_type": "code",
   "execution_count": 68,
   "metadata": {},
   "outputs": [],
   "source": [
    "# Open the text file in read mode\n",
    "file_path = 'matrix.txt'  # Replace 'your_file.txt' with the path to your text file\n",
    "with open(file_path, 'r') as file:\n",
    "        # Read the contents of the file and store them as a list\n",
    "    file_content = file.readlines()\n",
    "        # Display the content of the file as a list\n",
    "        \n",
    "for k in range(len(file_content)):\n",
    "    file_content[k]=(file_content[k][:-1]).split(',')\n",
    "    for j in range(len(file_content[k])):\n",
    "        file_content[k][j]=int(file_content[k][j])\n",
    "\n",
    "file_content[-1][-1]=7981"
   ]
  },
  {
   "cell_type": "code",
   "execution_count": 69,
   "metadata": {},
   "outputs": [],
   "source": [
    "data = np.array((file_content))"
   ]
  },
  {
   "cell_type": "code",
   "execution_count": 91,
   "metadata": {},
   "outputs": [
    {
     "data": {
      "text/plain": [
       "260324.0"
      ]
     },
     "execution_count": 91,
     "metadata": {},
     "output_type": "execute_result"
    }
   ],
   "source": [
    "resout(data)"
   ]
  },
  {
   "cell_type": "markdown",
   "metadata": {},
   "source": [
    "The answer is : 260324.0"
   ]
  },
  {
   "cell_type": "code",
   "execution_count": null,
   "metadata": {},
   "outputs": [],
   "source": []
  }
 ],
 "metadata": {
  "kernelspec": {
   "display_name": "Python 3",
   "language": "python",
   "name": "python3"
  },
  "language_info": {
   "codemirror_mode": {
    "name": "ipython",
    "version": 3
   },
   "file_extension": ".py",
   "mimetype": "text/x-python",
   "name": "python",
   "nbconvert_exporter": "python",
   "pygments_lexer": "ipython3",
   "version": "3.8.10"
  }
 },
 "nbformat": 4,
 "nbformat_minor": 2
}
