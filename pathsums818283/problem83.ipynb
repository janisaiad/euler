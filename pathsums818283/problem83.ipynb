{
 "cells": [
  {
   "cell_type": "code",
   "execution_count": 7,
   "metadata": {},
   "outputs": [],
   "source": [
    "import numpy as np\n",
    "import matplotlib.pyplot as plt\n",
    "from copy import copy\n",
    "from math import inf\n",
    "%matplotlib widget\n",
    "from scipy.sparse.csgraph import dijkstra"
   ]
  },
  {
   "cell_type": "markdown",
   "metadata": {},
   "source": [
    "Stratégie : on applique l'algorithme de djikstra ! pour le graphe induit par la matrice"
   ]
  },
  {
   "cell_type": "markdown",
   "metadata": {},
   "source": [
    "$\\mathbb{1})$ On le fait avec scipy et des implémentation optis"
   ]
  },
  {
   "cell_type": "markdown",
   "metadata": {},
   "source": [
    "$\\mathbb{2}$) On le fait avec notre propre implémentation"
   ]
  },
  {
   "cell_type": "markdown",
   "metadata": {},
   "source": [
    "Detail : la 1ère et dernière valeur on s'en fout ! on pense donc chemin"
   ]
  },
  {
   "cell_type": "code",
   "execution_count": 23,
   "metadata": {},
   "outputs": [],
   "source": [
    "def code(i,j,n,p): # on code par colonne d'abord \n",
    "    return i+j*n\n",
    "\n",
    "def voisin(i,j,n,p):\n",
    "    if i==0:\n",
    "        if j==0:\n",
    "            return [(1,0),(0,1)]\n",
    "        if j==p-1:\n",
    "            return [(0,p-2),(1,p-1)]\n",
    "        else:\n",
    "            return [(0,j-1),(1,j),(0,j+1)]\n",
    "    elif i==n-1:\n",
    "        if j==0:\n",
    "            return [(n-2,0),(n-1,1)]\n",
    "        if j==p-1:\n",
    "            return [(n-2,p-1),(n-1,p-2)]\n",
    "        else:\n",
    "            return [(n-1,j-1),(n-2,j),(n-1,j+1)]\n",
    "    else:\n",
    "        if j==0:\n",
    "            return [(i,j+1),(i-1,j),(i+1,j)]\n",
    "        elif j==p-1:\n",
    "            return [(i,j-1),(i+1,j),(i-1,j)]\n",
    "        else:\n",
    "            return [(i+1,j),(i-1,j),(i,j+1),(i,j-1)]\n",
    "       \n",
    "       \n",
    " \n",
    "def graphe_matrix(M):\n",
    "    n,p = np.shape(M)\n",
    "    matrice_adj = np.zeros((p*n,p*n))\n",
    "    for i in range(n):\n",
    "        for j in range(p):\n",
    "            case_courante = code(i,j,n,p)\n",
    "            listevoisin = voisin(i,j,n,p)\n",
    "            for voisins in listevoisin:\n",
    "                voisin_courant = code(voisins[0],voisins[1],n,p)\n",
    "                matrice_adj[case_courante,voisin_courant]=M[voisins[0],voisins[1]] # en gros c'est le cout pour passer par ce chemin là\n",
    "    return matrice_adj\n",
    "\n",
    "\n",
    "def resout(M):\n",
    "    n,p=np.shape(M)\n",
    "    matrice_adj = graphe_matrix(M)\n",
    "    matricedji = dijkstra(matrice_adj)\n",
    "    valdeb,valfin = code(0,0,n,p),code(n-1,p-1,n,p)\n",
    "    return matricedji[valdeb,valfin]+M[0,0]\n",
    "                \n",
    "    "
   ]
  },
  {
   "cell_type": "code",
   "execution_count": 28,
   "metadata": {},
   "outputs": [
    {
     "name": "stdout",
     "output_type": "stream",
     "text": [
      "[[8 2 5]\n",
      " [7 6 5]\n",
      " [2 9 8]]\n"
     ]
    }
   ],
   "source": [
    "Q=np.random.randint(1,10,size=(3,3))\n",
    "print(Q)"
   ]
  },
  {
   "cell_type": "code",
   "execution_count": 29,
   "metadata": {},
   "outputs": [
    {
     "data": {
      "text/plain": [
       "28.0"
      ]
     },
     "execution_count": 29,
     "metadata": {},
     "output_type": "execute_result"
    }
   ],
   "source": [
    "resout(Q)"
   ]
  },
  {
   "cell_type": "code",
   "execution_count": 2,
   "metadata": {},
   "outputs": [],
   "source": [
    "# Open the text file in read mode\n",
    "file_path = 'matrix.txt'  # Replace 'your_file.txt' with the path to your text file\n",
    "with open(file_path, 'r') as file:\n",
    "        # Read the contents of the file and store them as a list\n",
    "    file_content = file.readlines()\n",
    "        # Display the content of the file as a list\n",
    "        \n",
    "for k in range(len(file_content)):\n",
    "    file_content[k]=(file_content[k][:-1]).split(',')\n",
    "    for j in range(len(file_content[k])):\n",
    "        file_content[k][j]=int(file_content[k][j])\n",
    "\n",
    "file_content[-1][-1]=7981"
   ]
  },
  {
   "cell_type": "code",
   "execution_count": 3,
   "metadata": {},
   "outputs": [],
   "source": [
    "data = np.array((file_content))"
   ]
  },
  {
   "cell_type": "code",
   "execution_count": 30,
   "metadata": {},
   "outputs": [
    {
     "data": {
      "text/plain": [
       "425185.0"
      ]
     },
     "execution_count": 30,
     "metadata": {},
     "output_type": "execute_result"
    }
   ],
   "source": [
    "resout(data)"
   ]
  },
  {
   "cell_type": "markdown",
   "metadata": {},
   "source": [
    "The answer is : 425185"
   ]
  },
  {
   "cell_type": "code",
   "execution_count": null,
   "metadata": {},
   "outputs": [],
   "source": []
  }
 ],
 "metadata": {
  "kernelspec": {
   "display_name": "Python 3",
   "language": "python",
   "name": "python3"
  },
  "language_info": {
   "codemirror_mode": {
    "name": "ipython",
    "version": 3
   },
   "file_extension": ".py",
   "mimetype": "text/x-python",
   "name": "python",
   "nbconvert_exporter": "python",
   "pygments_lexer": "ipython3",
   "version": "3.8.10"
  }
 },
 "nbformat": 4,
 "nbformat_minor": 2
}
