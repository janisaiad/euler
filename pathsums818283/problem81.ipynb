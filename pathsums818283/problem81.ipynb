{
 "cells": [
  {
   "cell_type": "code",
   "execution_count": 32,
   "metadata": {},
   "outputs": [],
   "source": [
    "import numpy as np\n",
    "import matplotlib.pyplot as plt\n",
    "from copy import copy\n",
    "from math import inf\n",
    "%matplotlib widget"
   ]
  },
  {
   "cell_type": "code",
   "execution_count": 151,
   "metadata": {},
   "outputs": [],
   "source": [
    "# on travail sur le minimum\n",
    "\n",
    "def liste(M,k):\n",
    "    n,p=np.shape(M)\n",
    "    L=[]\n",
    "    for j in range(max(0,k-n+1),min(k,p-1)+1):\n",
    "        L.append(M[k-j][j])\n",
    "    return L\n",
    "\n",
    "\n",
    "\n",
    "def resout(M): # on suppose la matrice positive pour faire les opérations de manière simple sans trop se casser la tête sur les conventions\n",
    "    n,p=np.shape(M)\n",
    "    Q=np.zeros((n,p))\n",
    "    Q[0][0]=M[0][0]\n",
    "    for k in range(1,n+p-1):\n",
    "        if k<=n-1:\n",
    "            Q[k][0]=M[k][0]+Q[k-1][0]\n",
    "            borninf = 1\n",
    "        else:\n",
    "            borninf = k-n+1\n",
    "        if k<=p-1:\n",
    "            Q[0][k]=M[0][k]+Q[0][k-1]\n",
    "            bornsup= k\n",
    "        else : \n",
    "            bornsup=p\n",
    "        for j in range(borninf,bornsup):\n",
    "            Q[k-j][j]=M[k-j][j]+min(Q[k-j][j-1],Q[k-j-1][j])\n",
    "           \n",
    "    return Q\n",
    "\n",
    "    \n",
    "def shifted(Q):\n",
    "    n,p=np.shape(Q)\n",
    "    A,B=copy(Q),copy(Q)\n",
    "    for j in range(n-1,0,-1):\n",
    "        A[j,:]=A[j-1,:]\n",
    "    for k in range(p-1,0,-1):\n",
    "        B[:,j]=B[:,j-1]\n",
    "    \n",
    "    A[0,:]=np.array([inf for _ in range(p)])\n",
    "    B[:,0]=np.array([inf for _ in range(n)])\n",
    "    return A,B"
   ]
  },
  {
   "cell_type": "code",
   "execution_count": null,
   "metadata": {},
   "outputs": [],
   "source": []
  },
  {
   "cell_type": "markdown",
   "metadata": {},
   "source": [
    "Data processing"
   ]
  },
  {
   "cell_type": "code",
   "execution_count": 146,
   "metadata": {},
   "outputs": [],
   "source": [
    "# Open the text file in read mode\n",
    "file_path = 'matrix.txt'  # Replace 'your_file.txt' with the path to your text file\n",
    "with open(file_path, 'r') as file:\n",
    "        # Read the contents of the file and store them as a list\n",
    "    file_content = file.readlines()\n",
    "        # Display the content of the file as a list\n",
    "        \n",
    "for k in range(len(file_content)):\n",
    "    file_content[k]=(file_content[k][:-1]).split(',')\n",
    "    for j in range(len(file_content[k])):\n",
    "        file_content[k][j]=int(file_content[k][j])\n",
    "\n",
    "file_content[-1][-1]=7981"
   ]
  },
  {
   "cell_type": "code",
   "execution_count": 147,
   "metadata": {},
   "outputs": [],
   "source": [
    "data = np.array((file_content))"
   ]
  },
  {
   "cell_type": "code",
   "execution_count": 152,
   "metadata": {},
   "outputs": [
    {
     "name": "stdout",
     "output_type": "stream",
     "text": [
      "[[4445 2697 5115 ... 2758 3748 5870]\n",
      " [1096   20 1318 ... 4187 9353 9377]\n",
      " [9607 7385  521 ... 9515 6385 9230]\n",
      " ...\n",
      " [2265 8192 1763 ... 7456 5128 5294]\n",
      " [2132 8992 8160 ... 5634 1113 5789]\n",
      " [5304 5499  564 ... 2751 3406 7981]]\n"
     ]
    }
   ],
   "source": [
    "print(data)"
   ]
  },
  {
   "cell_type": "code",
   "execution_count": 153,
   "metadata": {},
   "outputs": [
    {
     "data": {
      "text/plain": [
       "array([[  4445.,   7142.,  12257., ..., 386326., 390074., 395944.],\n",
       "       [  5541.,   5561.,   6879., ..., 361113., 370466., 379843.],\n",
       "       [ 15148.,  12946.,   7400., ..., 364000., 370385., 379615.],\n",
       "       ...,\n",
       "       [397512., 356291., 338716., ..., 422535., 414837., 420131.],\n",
       "       [399644., 365283., 346876., ..., 423341., 415950., 421739.],\n",
       "       [404948., 370782., 347440., ..., 425890., 419356., 427337.]])"
      ]
     },
     "execution_count": 153,
     "metadata": {},
     "output_type": "execute_result"
    }
   ],
   "source": [
    "resout(data)"
   ]
  },
  {
   "cell_type": "markdown",
   "metadata": {},
   "source": [
    "Réponse :  427337"
   ]
  },
  {
   "cell_type": "code",
   "execution_count": null,
   "metadata": {},
   "outputs": [],
   "source": []
  }
 ],
 "metadata": {
  "kernelspec": {
   "display_name": "Python 3",
   "language": "python",
   "name": "python3"
  },
  "language_info": {
   "codemirror_mode": {
    "name": "ipython",
    "version": 3
   },
   "file_extension": ".py",
   "mimetype": "text/x-python",
   "name": "python",
   "nbconvert_exporter": "python",
   "pygments_lexer": "ipython3",
   "version": "3.8.10"
  }
 },
 "nbformat": 4,
 "nbformat_minor": 2
}
